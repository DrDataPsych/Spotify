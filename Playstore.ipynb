{
 "cells": [
  {
   "cell_type": "markdown",
   "metadata": {},
   "source": [
    "# Analysis of Spotify Reviews from Google Playstore Data"
   ]
  },
  {
   "cell_type": "markdown",
   "metadata": {},
   "source": [
    "Loading the libraries"
   ]
  },
  {
   "cell_type": "code",
   "execution_count": 2,
   "metadata": {},
   "outputs": [],
   "source": [
    "from google_play_scraper import Sort, reviews_all\n",
    "import pandas as pd\n",
    "import numpy as np"
   ]
  },
  {
   "cell_type": "markdown",
   "metadata": {},
   "source": [
    "## Scraping the data with google_play_scraper"
   ]
  },
  {
   "cell_type": "code",
   "execution_count": 138,
   "metadata": {},
   "outputs": [],
   "source": [
    "us_reviews = reviews_all(\n",
    "    'com.spotify.music', # the id is found within the app url at play.google.com/store\n",
    "    sleep_milliseconds=0, \n",
    "    lang='en', \n",
    "    country='us', \n",
    "    sort=Sort.MOST_RELEVANT, # defaults to Sort.MOST_RELEVANT\n",
    ")"
   ]
  },
  {
   "cell_type": "markdown",
   "metadata": {},
   "source": [
    "Loading the data into a dataframe"
   ]
  },
  {
   "cell_type": "code",
   "execution_count": 139,
   "metadata": {},
   "outputs": [
    {
     "data": {
      "text/html": [
       "<div>\n",
       "<style scoped>\n",
       "    .dataframe tbody tr th:only-of-type {\n",
       "        vertical-align: middle;\n",
       "    }\n",
       "\n",
       "    .dataframe tbody tr th {\n",
       "        vertical-align: top;\n",
       "    }\n",
       "\n",
       "    .dataframe thead th {\n",
       "        text-align: right;\n",
       "    }\n",
       "</style>\n",
       "<table border=\"1\" class=\"dataframe\">\n",
       "  <thead>\n",
       "    <tr style=\"text-align: right;\">\n",
       "      <th></th>\n",
       "      <th>reviewId</th>\n",
       "      <th>userName</th>\n",
       "      <th>userImage</th>\n",
       "      <th>content</th>\n",
       "      <th>score</th>\n",
       "      <th>thumbsUpCount</th>\n",
       "      <th>reviewCreatedVersion</th>\n",
       "      <th>at</th>\n",
       "      <th>replyContent</th>\n",
       "      <th>repliedAt</th>\n",
       "    </tr>\n",
       "  </thead>\n",
       "  <tbody>\n",
       "    <tr>\n",
       "      <th>0</th>\n",
       "      <td>65f84535-0b00-46a5-8764-f5b7f9a842e9</td>\n",
       "      <td>Maurice Ward</td>\n",
       "      <td>https://play-lh.googleusercontent.com/a-/AFdZucoIDk0EuYmoCxqC-96tQSnAk-BEZuoJtVdws-Eb</td>\n",
       "      <td>Spotify has been playing very well for me. However, I am dealing with an annoying bug in which the music only plays for close to 10 seconds before quitting. I would clear my cache, re-install, and even made sure to fix my battery optimization. It would play, but then it would cut the song off at odd times. I can't really subscribe to a service that isn't working like it should. I don't know what happened, but this isn't the Spotify I remembered using.</td>\n",
       "      <td>2</td>\n",
       "      <td>36</td>\n",
       "      <td>8.7.48.1062</td>\n",
       "      <td>2022-07-26 13:17:18</td>\n",
       "      <td>None</td>\n",
       "      <td>NaT</td>\n",
       "    </tr>\n",
       "    <tr>\n",
       "      <th>1</th>\n",
       "      <td>3fb5e8e1-04a6-4d62-be4e-59c2f175878f</td>\n",
       "      <td>Cathy Leavitt</td>\n",
       "      <td>https://play-lh.googleusercontent.com/a/AItbvmmIhobEmnhBvX-lXhTxGWO_N9Z5l3yKTHPm0ys7=mo</td>\n",
       "      <td>Unusable. I've had this app for years. Always worked no problem. The past few days I cannot get it to do anything. Will not play any music. I've tried logging out and back in, updating the app,, uninstalled and reinstalled, cleared cache, nothing works. Every time I try to play a song it just buffers endlessly. It's a shame because I had a bunch of playlists but if I can never listen to them then what's the point.</td>\n",
       "      <td>1</td>\n",
       "      <td>23</td>\n",
       "      <td>8.7.48.1062</td>\n",
       "      <td>2022-07-26 14:46:05</td>\n",
       "      <td>None</td>\n",
       "      <td>NaT</td>\n",
       "    </tr>\n",
       "    <tr>\n",
       "      <th>2</th>\n",
       "      <td>f204cddb-f95c-40b3-97b3-034f6674d134</td>\n",
       "      <td>Paul</td>\n",
       "      <td>https://play-lh.googleusercontent.com/a-/AFdZucrWQ7dz05_pqlTSSeL98rJIbdXLk_mAxpY_xWHQqQ</td>\n",
       "      <td>Used to be really good. I use Spotify solely for podcasts, and lately it has been having lots of problems. Mainly, when I stop using the app for several minutes, it will not allow me to pause/stop the podcast upon playing. And if I close the app entirely, it won't let me open it again for several minutes. I basically have to wait for it to fully shutdown in the background I guess. Also, it will randomly skip podcasts mid stream. Just out of nowhere it will skip to the next podcast on the list.</td>\n",
       "      <td>2</td>\n",
       "      <td>15</td>\n",
       "      <td>8.7.48.1062</td>\n",
       "      <td>2022-07-25 17:31:16</td>\n",
       "      <td>None</td>\n",
       "      <td>NaT</td>\n",
       "    </tr>\n",
       "    <tr>\n",
       "      <th>3</th>\n",
       "      <td>a37ecc47-47d2-45b5-862f-d751874723a8</td>\n",
       "      <td>Mike Galyardt</td>\n",
       "      <td>https://play-lh.googleusercontent.com/a-/AFdZucrrxZ4O1Vd5wXFtirgoYKbh5HJkDYTW_zUEVym-EA</td>\n",
       "      <td>I really don't understand how one of the biggest music apps on the planet can be this buggy. Frequently missing the \"now playing\" tab at the bottom of the app, which means all controls (skip, pause, etc) are missing. Randomly says \"no internet connection\" while clearly connected to the internet and streaming. If you search for a song and play it, then let it autoplay similar songs afterwards, you can't go back and listen to the original song without backing out and selecting the song again.</td>\n",
       "      <td>1</td>\n",
       "      <td>361</td>\n",
       "      <td>8.7.48.1062</td>\n",
       "      <td>2022-07-21 21:47:38</td>\n",
       "      <td>None</td>\n",
       "      <td>NaT</td>\n",
       "    </tr>\n",
       "    <tr>\n",
       "      <th>4</th>\n",
       "      <td>65a68c48-5d7c-4694-af47-741b296ce41d</td>\n",
       "      <td>Barb Zerbe</td>\n",
       "      <td>https://play-lh.googleusercontent.com/a/AItbvml_BqwIan-2Lsqv8sPGV3p7N6TWS30DphO9Pt0Z=mo</td>\n",
       "      <td>My podcasts are breaking off after playing for about 2 minutes and I keep having to restart the phone. It's a new phone for me, so I'm probably doing something wrong, but it is frustrating. I really like Spotify on my old phone. I use it for my activities job at a nursing home. I ask loved ones of catatonic patients what their favorite music is, and they respond !</td>\n",
       "      <td>3</td>\n",
       "      <td>33</td>\n",
       "      <td>8.7.48.1062</td>\n",
       "      <td>2022-07-24 01:14:14</td>\n",
       "      <td>None</td>\n",
       "      <td>NaT</td>\n",
       "    </tr>\n",
       "  </tbody>\n",
       "</table>\n",
       "</div>"
      ],
      "text/plain": [
       "                               reviewId       userName  \\\n",
       "0  65f84535-0b00-46a5-8764-f5b7f9a842e9   Maurice Ward   \n",
       "1  3fb5e8e1-04a6-4d62-be4e-59c2f175878f  Cathy Leavitt   \n",
       "2  f204cddb-f95c-40b3-97b3-034f6674d134           Paul   \n",
       "3  a37ecc47-47d2-45b5-862f-d751874723a8  Mike Galyardt   \n",
       "4  65a68c48-5d7c-4694-af47-741b296ce41d     Barb Zerbe   \n",
       "\n",
       "                                                                                 userImage  \\\n",
       "0    https://play-lh.googleusercontent.com/a-/AFdZucoIDk0EuYmoCxqC-96tQSnAk-BEZuoJtVdws-Eb   \n",
       "1  https://play-lh.googleusercontent.com/a/AItbvmmIhobEmnhBvX-lXhTxGWO_N9Z5l3yKTHPm0ys7=mo   \n",
       "2  https://play-lh.googleusercontent.com/a-/AFdZucrWQ7dz05_pqlTSSeL98rJIbdXLk_mAxpY_xWHQqQ   \n",
       "3  https://play-lh.googleusercontent.com/a-/AFdZucrrxZ4O1Vd5wXFtirgoYKbh5HJkDYTW_zUEVym-EA   \n",
       "4  https://play-lh.googleusercontent.com/a/AItbvml_BqwIan-2Lsqv8sPGV3p7N6TWS30DphO9Pt0Z=mo   \n",
       "\n",
       "                                                                                                                                                                                                                                                                                                                                                                                                                                                                                                              content  \\\n",
       "0                                             Spotify has been playing very well for me. However, I am dealing with an annoying bug in which the music only plays for close to 10 seconds before quitting. I would clear my cache, re-install, and even made sure to fix my battery optimization. It would play, but then it would cut the song off at odd times. I can't really subscribe to a service that isn't working like it should. I don't know what happened, but this isn't the Spotify I remembered using.   \n",
       "1                                                                                   Unusable. I've had this app for years. Always worked no problem. The past few days I cannot get it to do anything. Will not play any music. I've tried logging out and back in, updating the app,, uninstalled and reinstalled, cleared cache, nothing works. Every time I try to play a song it just buffers endlessly. It's a shame because I had a bunch of playlists but if I can never listen to them then what's the point.   \n",
       "2  Used to be really good. I use Spotify solely for podcasts, and lately it has been having lots of problems. Mainly, when I stop using the app for several minutes, it will not allow me to pause/stop the podcast upon playing. And if I close the app entirely, it won't let me open it again for several minutes. I basically have to wait for it to fully shutdown in the background I guess. Also, it will randomly skip podcasts mid stream. Just out of nowhere it will skip to the next podcast on the list.   \n",
       "3     I really don't understand how one of the biggest music apps on the planet can be this buggy. Frequently missing the \"now playing\" tab at the bottom of the app, which means all controls (skip, pause, etc) are missing. Randomly says \"no internet connection\" while clearly connected to the internet and streaming. If you search for a song and play it, then let it autoplay similar songs afterwards, you can't go back and listen to the original song without backing out and selecting the song again.   \n",
       "4                                                                                                                                      My podcasts are breaking off after playing for about 2 minutes and I keep having to restart the phone. It's a new phone for me, so I'm probably doing something wrong, but it is frustrating. I really like Spotify on my old phone. I use it for my activities job at a nursing home. I ask loved ones of catatonic patients what their favorite music is, and they respond !   \n",
       "\n",
       "   score  thumbsUpCount reviewCreatedVersion                  at replyContent  \\\n",
       "0      2             36          8.7.48.1062 2022-07-26 13:17:18         None   \n",
       "1      1             23          8.7.48.1062 2022-07-26 14:46:05         None   \n",
       "2      2             15          8.7.48.1062 2022-07-25 17:31:16         None   \n",
       "3      1            361          8.7.48.1062 2022-07-21 21:47:38         None   \n",
       "4      3             33          8.7.48.1062 2022-07-24 01:14:14         None   \n",
       "\n",
       "  repliedAt  \n",
       "0       NaT  \n",
       "1       NaT  \n",
       "2       NaT  \n",
       "3       NaT  \n",
       "4       NaT  "
      ]
     },
     "execution_count": 139,
     "metadata": {},
     "output_type": "execute_result"
    }
   ],
   "source": [
    "df_spotify = pd.DataFrame(np.array(us_reviews),columns=['review'])\n",
    "\n",
    "\n",
    "df_spotify = df_spotify.join(pd.DataFrame(df_spotify.pop('review').tolist()))\n",
    "\n",
    "df_spotify.head()\n",
    "\n",
    "\n"
   ]
  },
  {
   "cell_type": "markdown",
   "metadata": {},
   "source": [
    "I am dropping some columns that are not usefull for this analaysis and changing column names for a better understanding"
   ]
  },
  {
   "cell_type": "code",
   "execution_count": 140,
   "metadata": {},
   "outputs": [],
   "source": [
    "df_spotify.drop(columns={'reviewId', 'userImage', 'reviewCreatedVersion'}, inplace=True )\n",
    "df_spotify = df_spotify.rename(columns={'userName':'user', 'content':'review_description', 'score':'rating', 'at':'review_date', 'replyContent':'developer_response', 'repliedAt':'developer_response_date'})\n",
    "\n"
   ]
  },
  {
   "cell_type": "markdown",
   "metadata": {},
   "source": [
    "Inspecting the dataframe"
   ]
  },
  {
   "cell_type": "code",
   "execution_count": 141,
   "metadata": {},
   "outputs": [
    {
     "name": "stdout",
     "output_type": "stream",
     "text": [
      "<class 'pandas.core.frame.DataFrame'>\n",
      "RangeIndex: 126166 entries, 0 to 126165\n",
      "Data columns (total 7 columns):\n",
      " #   Column                   Non-Null Count   Dtype         \n",
      "---  ------                   --------------   -----         \n",
      " 0   user                     126166 non-null  object        \n",
      " 1   review_description       126166 non-null  object        \n",
      " 2   rating                   126166 non-null  int64         \n",
      " 3   thumbsUpCount            126166 non-null  int64         \n",
      " 4   review_date              126166 non-null  datetime64[ns]\n",
      " 5   developer_response       4319 non-null    object        \n",
      " 6   developer_response_date  4319 non-null    datetime64[ns]\n",
      "dtypes: datetime64[ns](2), int64(2), object(3)\n",
      "memory usage: 6.7+ MB\n"
     ]
    }
   ],
   "source": [
    "df_spotify.info()"
   ]
  },
  {
   "cell_type": "markdown",
   "metadata": {},
   "source": [
    "Sorting the rows by date (descending) and checking the count of ratings (1, 2, 3, 4, 5)"
   ]
  },
  {
   "cell_type": "code",
   "execution_count": 142,
   "metadata": {},
   "outputs": [
    {
     "data": {
      "text/plain": [
       "1    38228\n",
       "5    36357\n",
       "4    17761\n",
       "2    17406\n",
       "3    16414\n",
       "Name: rating, dtype: int64"
      ]
     },
     "execution_count": 142,
     "metadata": {},
     "output_type": "execute_result"
    }
   ],
   "source": [
    "df_spotify = df_spotify.sort_values(['review_date'], ascending=False, inplace=False)\n",
    "df_spotify.reset_index(drop=True)\n",
    "df_spotify['rating'].value_counts()"
   ]
  },
  {
   "cell_type": "code",
   "execution_count": 144,
   "metadata": {},
   "outputs": [
    {
     "data": {
      "text/html": [
       "<div>\n",
       "<style scoped>\n",
       "    .dataframe tbody tr th:only-of-type {\n",
       "        vertical-align: middle;\n",
       "    }\n",
       "\n",
       "    .dataframe tbody tr th {\n",
       "        vertical-align: top;\n",
       "    }\n",
       "\n",
       "    .dataframe thead th {\n",
       "        text-align: right;\n",
       "    }\n",
       "</style>\n",
       "<table border=\"1\" class=\"dataframe\">\n",
       "  <thead>\n",
       "    <tr style=\"text-align: right;\">\n",
       "      <th></th>\n",
       "      <th>user</th>\n",
       "      <th>review_description</th>\n",
       "      <th>rating</th>\n",
       "      <th>thumbsUpCount</th>\n",
       "      <th>review_date</th>\n",
       "      <th>developer_response</th>\n",
       "      <th>developer_response_date</th>\n",
       "    </tr>\n",
       "  </thead>\n",
       "  <tbody>\n",
       "    <tr>\n",
       "      <th>4387</th>\n",
       "      <td>Bharti Singh</td>\n",
       "      <td>It was a good app but from the past month it's malfunctioning, tye songs doesn't play in order, it literally skips so many songs and my playlist isn't even on shuffle. And a jpop mix playlist is supposed to only have Japanese songs what are English and kpop songs doing there ???? Edit : More problems each and every song doesn't play after 9 seconds.</td>\n",
       "      <td>1</td>\n",
       "      <td>0</td>\n",
       "      <td>2022-07-29 06:13:51</td>\n",
       "      <td>None</td>\n",
       "      <td>NaT</td>\n",
       "    </tr>\n",
       "    <tr>\n",
       "      <th>1322</th>\n",
       "      <td>Rach HW Burns</td>\n",
       "      <td>Usually works well but currently there are so horrible glitches. Doesn't sync, says I'm offline (I'm not) and some lyrics are completely wrong. Occasionally it just cuts out of a song despite my phone being in my bag and not being used. Weird. Never had issues before..</td>\n",
       "      <td>3</td>\n",
       "      <td>0</td>\n",
       "      <td>2022-07-28 23:47:11</td>\n",
       "      <td>None</td>\n",
       "      <td>NaT</td>\n",
       "    </tr>\n",
       "    <tr>\n",
       "      <th>24</th>\n",
       "      <td>Jordan Barnard</td>\n",
       "      <td>Pros I can listen to all my music in 1 place. I can import local tracks to hear. Podcasts are awesome to have. The concert information is very cool. Cons Costs $140 dollars a year and premium features rarely work better than free. I download my favorite tracks just to have them not load offline. Half the time my clicks don't register on the app. It can be rendered essential useless at random. Edit 7-28; absolutely terrible. I can't even open the all without the \"no connection\" message. 0/5</td>\n",
       "      <td>1</td>\n",
       "      <td>1</td>\n",
       "      <td>2022-07-28 21:28:38</td>\n",
       "      <td>None</td>\n",
       "      <td>NaT</td>\n",
       "    </tr>\n",
       "    <tr>\n",
       "      <th>7352</th>\n",
       "      <td>Adam Wolske</td>\n",
       "      <td>Amazing selection and ability to create your own playlists. Only get limited number of skips per hour with free version. Definitely worth downloading 👌. Gets FRUSTRATING when you want to hear a particular song but you get a ton of \"recommended\" songs. I just want to listen to the song I just searched up 😡🤬</td>\n",
       "      <td>4</td>\n",
       "      <td>0</td>\n",
       "      <td>2022-07-28 21:17:12</td>\n",
       "      <td>None</td>\n",
       "      <td>NaT</td>\n",
       "    </tr>\n",
       "    <tr>\n",
       "      <th>125312</th>\n",
       "      <td>King Bobles</td>\n",
       "      <td>Love the app. But recently whenever I try to open my liked songs on mobile it just comes up as a black screen</td>\n",
       "      <td>1</td>\n",
       "      <td>0</td>\n",
       "      <td>2022-07-28 17:42:40</td>\n",
       "      <td>None</td>\n",
       "      <td>NaT</td>\n",
       "    </tr>\n",
       "  </tbody>\n",
       "</table>\n",
       "</div>"
      ],
      "text/plain": [
       "                  user  \\\n",
       "4387      Bharti Singh   \n",
       "1322     Rach HW Burns   \n",
       "24      Jordan Barnard   \n",
       "7352       Adam Wolske   \n",
       "125312     King Bobles   \n",
       "\n",
       "                                                                                                                                                                                                                                                                                                                                                                                                                                                                                                    review_description  \\\n",
       "4387                                                                                                                                                   It was a good app but from the past month it's malfunctioning, tye songs doesn't play in order, it literally skips so many songs and my playlist isn't even on shuffle. And a jpop mix playlist is supposed to only have Japanese songs what are English and kpop songs doing there ???? Edit : More problems each and every song doesn't play after 9 seconds.   \n",
       "1322                                                                                                                                                                                                                                     Usually works well but currently there are so horrible glitches. Doesn't sync, says I'm offline (I'm not) and some lyrics are completely wrong. Occasionally it just cuts out of a song despite my phone being in my bag and not being used. Weird. Never had issues before..   \n",
       "24      Pros I can listen to all my music in 1 place. I can import local tracks to hear. Podcasts are awesome to have. The concert information is very cool. Cons Costs $140 dollars a year and premium features rarely work better than free. I download my favorite tracks just to have them not load offline. Half the time my clicks don't register on the app. It can be rendered essential useless at random. Edit 7-28; absolutely terrible. I can't even open the all without the \"no connection\" message. 0/5   \n",
       "7352                                                                                                                                                                                               Amazing selection and ability to create your own playlists. Only get limited number of skips per hour with free version. Definitely worth downloading 👌. Gets FRUSTRATING when you want to hear a particular song but you get a ton of \"recommended\" songs. I just want to listen to the song I just searched up 😡🤬   \n",
       "125312                                                                                                                                                                                                                                                                                                                                                                                                   Love the app. But recently whenever I try to open my liked songs on mobile it just comes up as a black screen   \n",
       "\n",
       "        rating  thumbsUpCount         review_date developer_response  \\\n",
       "4387         1              0 2022-07-29 06:13:51               None   \n",
       "1322         3              0 2022-07-28 23:47:11               None   \n",
       "24           1              1 2022-07-28 21:28:38               None   \n",
       "7352         4              0 2022-07-28 21:17:12               None   \n",
       "125312       1              0 2022-07-28 17:42:40               None   \n",
       "\n",
       "       developer_response_date  \n",
       "4387                       NaT  \n",
       "1322                       NaT  \n",
       "24                         NaT  \n",
       "7352                       NaT  \n",
       "125312                     NaT  "
      ]
     },
     "execution_count": 144,
     "metadata": {},
     "output_type": "execute_result"
    }
   ],
   "source": [
    "df_spotify.head()"
   ]
  },
  {
   "cell_type": "code",
   "execution_count": 143,
   "metadata": {},
   "outputs": [
    {
     "data": {
      "text/html": [
       "<div>\n",
       "<style scoped>\n",
       "    .dataframe tbody tr th:only-of-type {\n",
       "        vertical-align: middle;\n",
       "    }\n",
       "\n",
       "    .dataframe tbody tr th {\n",
       "        vertical-align: top;\n",
       "    }\n",
       "\n",
       "    .dataframe thead th {\n",
       "        text-align: right;\n",
       "    }\n",
       "</style>\n",
       "<table border=\"1\" class=\"dataframe\">\n",
       "  <thead>\n",
       "    <tr style=\"text-align: right;\">\n",
       "      <th></th>\n",
       "      <th>user</th>\n",
       "      <th>review_description</th>\n",
       "      <th>rating</th>\n",
       "      <th>thumbsUpCount</th>\n",
       "      <th>review_date</th>\n",
       "      <th>developer_response</th>\n",
       "      <th>developer_response_date</th>\n",
       "    </tr>\n",
       "  </thead>\n",
       "  <tbody>\n",
       "    <tr>\n",
       "      <th>113319</th>\n",
       "      <td>A Google user</td>\n",
       "      <td>Their newest update has made it so that your music stops after every track, even if you have songs in your queue. It is very frustrating</td>\n",
       "      <td>2</td>\n",
       "      <td>0</td>\n",
       "      <td>2018-09-12 13:05:58</td>\n",
       "      <td>None</td>\n",
       "      <td>NaT</td>\n",
       "    </tr>\n",
       "    <tr>\n",
       "      <th>22908</th>\n",
       "      <td>A Google user</td>\n",
       "      <td>Worked ok until i applied the student discount. Started working fine when i started paying full price, my colleagues said that would happen but i just wanted to test their theory. I'm a full time student so would love to take advantage of the student option as thats the only way the price competes with your competitors. The apps simple to use, so remove the trip wires and this would change to a 3/4 star 😎</td>\n",
       "      <td>1</td>\n",
       "      <td>0</td>\n",
       "      <td>2018-09-12 13:03:03</td>\n",
       "      <td>None</td>\n",
       "      <td>NaT</td>\n",
       "    </tr>\n",
       "    <tr>\n",
       "      <th>91645</th>\n",
       "      <td>A Google user</td>\n",
       "      <td>Great app, I just missing the thumbs down feature, to songs I never want to hear again! So annoying to have to bump in to songs I don't like on Playlists....</td>\n",
       "      <td>4</td>\n",
       "      <td>0</td>\n",
       "      <td>2018-09-12 11:49:13</td>\n",
       "      <td>None</td>\n",
       "      <td>NaT</td>\n",
       "    </tr>\n",
       "    <tr>\n",
       "      <th>70942</th>\n",
       "      <td>A Google user</td>\n",
       "      <td>Spotify on mobile embraces the marketplace's greed fully, most restricted 'free' experience I have ever . They're trying their absolute best to try and get you to pay, even if it means crippling the experience. Even Spotify's own desktop app puts this one to shame.</td>\n",
       "      <td>2</td>\n",
       "      <td>0</td>\n",
       "      <td>2018-09-12 10:55:09</td>\n",
       "      <td>None</td>\n",
       "      <td>NaT</td>\n",
       "    </tr>\n",
       "    <tr>\n",
       "      <th>67809</th>\n",
       "      <td>A Google user</td>\n",
       "      <td>I've been using Spotify for almost 4 years. If you're looking for what you want when you want this is the app. You can build playlist or search through other playlists 💯 x better than Pandora</td>\n",
       "      <td>5</td>\n",
       "      <td>0</td>\n",
       "      <td>2018-09-12 09:36:43</td>\n",
       "      <td>None</td>\n",
       "      <td>NaT</td>\n",
       "    </tr>\n",
       "  </tbody>\n",
       "</table>\n",
       "</div>"
      ],
      "text/plain": [
       "                 user  \\\n",
       "113319  A Google user   \n",
       "22908   A Google user   \n",
       "91645   A Google user   \n",
       "70942   A Google user   \n",
       "67809   A Google user   \n",
       "\n",
       "                                                                                                                                                                                                                                                                                                                                                                                                              review_description  \\\n",
       "113319                                                                                                                                                                                                                                                                                  Their newest update has made it so that your music stops after every track, even if you have songs in your queue. It is very frustrating   \n",
       "22908   Worked ok until i applied the student discount. Started working fine when i started paying full price, my colleagues said that would happen but i just wanted to test their theory. I'm a full time student so would love to take advantage of the student option as thats the only way the price competes with your competitors. The apps simple to use, so remove the trip wires and this would change to a 3/4 star 😎   \n",
       "91645                                                                                                                                                                                                                                                              Great app, I just missing the thumbs down feature, to songs I never want to hear again! So annoying to have to bump in to songs I don't like on Playlists....   \n",
       "70942                                                                                                                                                  Spotify on mobile embraces the marketplace's greed fully, most restricted 'free' experience I have ever . They're trying their absolute best to try and get you to pay, even if it means crippling the experience. Even Spotify's own desktop app puts this one to shame.   \n",
       "67809                                                                                                                                                                                                                            I've been using Spotify for almost 4 years. If you're looking for what you want when you want this is the app. You can build playlist or search through other playlists 💯 x better than Pandora   \n",
       "\n",
       "        rating  thumbsUpCount         review_date developer_response  \\\n",
       "113319       2              0 2018-09-12 13:05:58               None   \n",
       "22908        1              0 2018-09-12 13:03:03               None   \n",
       "91645        4              0 2018-09-12 11:49:13               None   \n",
       "70942        2              0 2018-09-12 10:55:09               None   \n",
       "67809        5              0 2018-09-12 09:36:43               None   \n",
       "\n",
       "       developer_response_date  \n",
       "113319                     NaT  \n",
       "22908                      NaT  \n",
       "91645                      NaT  \n",
       "70942                      NaT  \n",
       "67809                      NaT  "
      ]
     },
     "execution_count": 143,
     "metadata": {},
     "output_type": "execute_result"
    }
   ],
   "source": [
    "df_spotify.tail()"
   ]
  },
  {
   "cell_type": "markdown",
   "metadata": {},
   "source": [
    "Extract all reviews containing the word design and saving it to a new df"
   ]
  },
  {
   "cell_type": "code",
   "execution_count": 160,
   "metadata": {},
   "outputs": [
    {
     "name": "stdout",
     "output_type": "stream",
     "text": [
      "<class 'pandas.core.frame.DataFrame'>\n",
      "Int64Index: 11701 entries, 28714 to 67809\n",
      "Data columns (total 7 columns):\n",
      " #   Column                   Non-Null Count  Dtype         \n",
      "---  ------                   --------------  -----         \n",
      " 0   user                     11701 non-null  object        \n",
      " 1   review_description       11701 non-null  object        \n",
      " 2   rating                   11701 non-null  int64         \n",
      " 3   thumbsUpCount            11701 non-null  int64         \n",
      " 4   review_date              11701 non-null  datetime64[ns]\n",
      " 5   developer_response       444 non-null    object        \n",
      " 6   developer_response_date  444 non-null    datetime64[ns]\n",
      "dtypes: datetime64[ns](2), int64(2), object(3)\n",
      "memory usage: 731.3+ KB\n"
     ]
    }
   ],
   "source": [
    "design_word = [\"design\",\"Design\",\"button\",\"graphics\",\"ui\", \"UI\", \"UX\", \"ux\", \"user experience\"]\n",
    "df_spotify_design = df_spotify[df_spotify[\"review_description\"].str.contains('|'.join(design_word))]\n",
    "df_spotify_design.info()"
   ]
  },
  {
   "cell_type": "markdown",
   "metadata": {},
   "source": [
    "There are 11701 reviews containing words connected to design (see above)"
   ]
  },
  {
   "cell_type": "markdown",
   "metadata": {},
   "source": [
    "Creating dataframes for each rating"
   ]
  },
  {
   "cell_type": "code",
   "execution_count": 168,
   "metadata": {},
   "outputs": [],
   "source": [
    "df_spotify_design.to_csv('spotify_design.csv', index=False)"
   ]
  },
  {
   "cell_type": "code",
   "execution_count": 26,
   "metadata": {},
   "outputs": [],
   "source": [
    "df = pd.read_csv('spotify_design.csv')\n",
    "\n",
    "design_1 = df[df[\"rating\"] == 1]\n",
    "design_2 = df[df[\"rating\"] == 2]\n",
    "design_3 = df[df[\"rating\"] == 3]\n",
    "design_4 = df[df[\"rating\"] == 4]\n",
    "design_5 = df[df[\"rating\"] == 5]\n",
    "\n",
    "design1_2 = df[df[\"rating\"].isin([1,2])]\n",
    "design4_5 = df[df[\"rating\"].isin([4,5])]"
   ]
  },
  {
   "cell_type": "markdown",
   "metadata": {},
   "source": [
    "The column review_description is truncated to 50 characters. To inspect some of the reviews fully, I change the display.max_colwidth"
   ]
  },
  {
   "cell_type": "code",
   "execution_count": 162,
   "metadata": {},
   "outputs": [],
   "source": [
    "pd.set_option('display.max_colwidth', None)"
   ]
  },
  {
   "cell_type": "markdown",
   "metadata": {},
   "source": [
    "## Create a Wordcloud with reviews containing the word design"
   ]
  },
  {
   "cell_type": "code",
   "execution_count": 11,
   "metadata": {},
   "outputs": [],
   "source": [
    "from wordcloud import WordCloud, STOPWORDS"
   ]
  },
  {
   "cell_type": "markdown",
   "metadata": {},
   "source": [
    "Saving the review description for each rating file seperatly "
   ]
  },
  {
   "cell_type": "code",
   "execution_count": 27,
   "metadata": {},
   "outputs": [],
   "source": [
    "design_1_review = design_1['review_description']\n",
    "design_1_review.to_csv('design1_words.csv', index=False)\n",
    "\n",
    "design_2_review = design_2['review_description']\n",
    "design_2_review.to_csv('design2_words.csv', index=False)\n",
    "\n",
    "design_3_review = design_3['review_description']\n",
    "design_3_review.to_csv('design3_words.csv', index=False)\n",
    "\n",
    "design_4_review = design_4['review_description']\n",
    "design_4_review.to_csv('design4_words.csv', index=False)\n",
    "\n",
    "design_5_review = design_5['review_description']\n",
    "design_5_review.to_csv('design5_words.csv', index=False)\n",
    "\n",
    "design_1_2_review = design1_2['review_description']\n",
    "design_1_2_review.to_csv('design1_2_words.csv', index=False)\n",
    "\n",
    "design_4_5_review = design4_5['review_description']\n",
    "design_4_5_review.to_csv('design4_5_words.csv', index=False)"
   ]
  },
  {
   "cell_type": "code",
   "execution_count": 28,
   "metadata": {},
   "outputs": [],
   "source": [
    "design1_words = open('design1_words.csv', mode='r', encoding='utf-8').read()\n",
    "design2_words = open('design2_words.csv', mode='r', encoding='utf-8').read()\n",
    "design3_words = open('design3_words.csv', mode='r', encoding='utf-8').read()\n",
    "design4_words = open('design4_words.csv', mode='r', encoding='utf-8').read()\n",
    "design5_words = open('design5_words.csv', mode='r', encoding='utf-8').read()\n",
    "design_1_2_words = open('design1_2_words.csv', mode='r', encoding='utf-8').read()\n",
    "design_4_5_words = open('design4_5_words.csv', mode='r', encoding='utf-8').read()"
   ]
  },
  {
   "cell_type": "markdown",
   "metadata": {},
   "source": [
    "By looking at the wordlcoud, I identified more words (without information content) for the STOPWORDS list and updated it."
   ]
  },
  {
   "cell_type": "code",
   "execution_count": 12,
   "metadata": {},
   "outputs": [],
   "source": [
    "stopword_add_ = \"Spotify app music playlist play every now design song songs love best great premium design Design button graphics ui UI UX ux user experience\"\n",
    "list_stopadd = stopword_add_.split()\n",
    "STOPWORDS.update(list_stopadd)"
   ]
  },
  {
   "cell_type": "markdown",
   "metadata": {},
   "source": [
    "Creating the wordclouds"
   ]
  },
  {
   "cell_type": "code",
   "execution_count": 184,
   "metadata": {},
   "outputs": [
    {
     "data": {
      "text/plain": [
       "<wordcloud.wordcloud.WordCloud at 0x29d76481600>"
      ]
     },
     "execution_count": 184,
     "metadata": {},
     "output_type": "execute_result"
    }
   ],
   "source": [
    "x, y = np.ogrid[:1000, :1000]\n",
    "\n",
    "mask = (x - 500) ** 2 + (y - 500) ** 2 > 400 ** 2\n",
    "mask = 255 * mask.astype(int)\n",
    "\n",
    "wc = WordCloud(\n",
    "                background_color=\"white\",\n",
    "                stopwords=STOPWORDS,\n",
    "                width=600, \n",
    "                height=400, \n",
    "                mask=mask).generate(design1_words)\n",
    "\n",
    "wc.to_file('design1_wordcloud.png')\n",
    "\n",
    "x, y = np.ogrid[:1000, :1000]\n",
    "\n",
    "mask = (x - 500) ** 2 + (y - 500) ** 2 > 400 ** 2\n",
    "mask = 255 * mask.astype(int)\n",
    "\n",
    "wc = WordCloud(\n",
    "                background_color=\"grey\",\n",
    "                stopwords=STOPWORDS,\n",
    "                width=600, \n",
    "                height=400, \n",
    "                mask=mask).generate(design2_words)\n",
    "\n",
    "wc.to_file('design2_wordcloud.png')\n",
    "\n",
    "x, y = np.ogrid[:1000, :1000]\n",
    "\n",
    "mask = (x - 500) ** 2 + (y - 500) ** 2 > 400 ** 2\n",
    "mask = 255 * mask.astype(int)\n",
    "\n",
    "wc = WordCloud(\n",
    "                background_color=\"green\",\n",
    "                stopwords=STOPWORDS,\n",
    "                width=600, \n",
    "                height=400, \n",
    "                mask=mask).generate(design3_words)\n",
    "\n",
    "wc.to_file('design3_wordcloud.png')\n",
    "\n",
    "x, y = np.ogrid[:1000, :1000]\n",
    "\n",
    "mask = (x - 500) ** 2 + (y - 500) ** 2 > 400 ** 2\n",
    "mask = 255 * mask.astype(int)\n",
    "\n",
    "wc = WordCloud(\n",
    "                background_color=\"blue\",\n",
    "                stopwords=STOPWORDS,\n",
    "                width=600, \n",
    "                height=400, \n",
    "                mask=mask).generate(design4_words)\n",
    "\n",
    "wc.to_file('design4_wordcloud.png')\n",
    "\n",
    "x, y = np.ogrid[:1000, :1000]\n",
    "\n",
    "mask = (x - 500) ** 2 + (y - 500) ** 2 > 400 ** 2\n",
    "mask = 255 * mask.astype(int)\n",
    "\n",
    "wc = WordCloud(\n",
    "                background_color=\"red\",\n",
    "                stopwords=STOPWORDS,\n",
    "                width=600, \n",
    "                height=400, \n",
    "                mask=mask).generate(design5_words)\n",
    "\n",
    "wc.to_file('design5_wordcloud.png')"
   ]
  },
  {
   "cell_type": "markdown",
   "metadata": {},
   "source": [
    "Comparing Wordlcoud with rating 1 & 2 to wordcloud with rating 3 & 4"
   ]
  },
  {
   "cell_type": "code",
   "execution_count": 30,
   "metadata": {},
   "outputs": [
    {
     "data": {
      "text/plain": [
       "<wordcloud.wordcloud.WordCloud at 0x200724f6080>"
      ]
     },
     "execution_count": 30,
     "metadata": {},
     "output_type": "execute_result"
    }
   ],
   "source": [
    "x, y = np.ogrid[:1000, :1000]\n",
    "\n",
    "mask = (x - 500) ** 2 + (y - 500) ** 2 > 400 ** 2\n",
    "mask = 255 * mask.astype(int)\n",
    "\n",
    "wc = WordCloud(\n",
    "                background_color=\"white\",\n",
    "                stopwords=STOPWORDS,\n",
    "                width=600, \n",
    "                height=400, \n",
    "                mask=mask).generate(design_1_2_words)\n",
    "\n",
    "wc.to_file('design_1_2_wordcloud.png')\n",
    "\n",
    "\n",
    "\n",
    "x, y = np.ogrid[:1000, :1000]\n",
    "\n",
    "mask = (x - 500) ** 2 + (y - 500) ** 2 > 400 ** 2\n",
    "mask = 255 * mask.astype(int)\n",
    "\n",
    "wc = WordCloud(\n",
    "                background_color=\"green\",\n",
    "                stopwords=STOPWORDS,\n",
    "                width=600, \n",
    "                height=400, \n",
    "                mask=mask).generate(design_4_5_words)\n",
    "\n",
    "wc.to_file('design_4_5_wordcloud.png')"
   ]
  },
  {
   "cell_type": "markdown",
   "metadata": {},
   "source": [
    "The wordlcoud dows not appear to give meaningful insights."
   ]
  },
  {
   "cell_type": "markdown",
   "metadata": {},
   "source": [
    "Key Findings:\n",
    "- Frequency rating containing design words- 1: 38228, 5: 36357, 4: 17761, 2: 17406, 3: 16414\n",
    "- The reviews range from 2022-07-28 to 2018-09-12\n",
    "- One has to analyze the reviews containing information about design manually to find repetitive feedback on a common aspect\n",
    "- The information content seems to vary a lot within the reviews\n",
    "- The wordcloud is not the ideal way to analyze reviews from the PlayStore\n",
    "- A more specific approach (qualitative interviews) seems to be the better approach\n"
   ]
  },
  {
   "cell_type": "markdown",
   "metadata": {},
   "source": []
  }
 ],
 "metadata": {
  "kernelspec": {
   "display_name": "Python 3.10.4 ('web_scrapping')",
   "language": "python",
   "name": "python3"
  },
  "language_info": {
   "codemirror_mode": {
    "name": "ipython",
    "version": 3
   },
   "file_extension": ".py",
   "mimetype": "text/x-python",
   "name": "python",
   "nbconvert_exporter": "python",
   "pygments_lexer": "ipython3",
   "version": "3.10.4"
  },
  "orig_nbformat": 4,
  "vscode": {
   "interpreter": {
    "hash": "c0b31c08b5ec32ce97bbe6403c289c4c0aa4f80e5934bc7f0722bf532af8edac"
   }
  }
 },
 "nbformat": 4,
 "nbformat_minor": 2
}
